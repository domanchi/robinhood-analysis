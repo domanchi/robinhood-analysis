{
 "metadata": {
  "language_info": {
   "codemirror_mode": {
    "name": "ipython",
    "version": 3
   },
   "file_extension": ".py",
   "mimetype": "text/x-python",
   "name": "python",
   "nbconvert_exporter": "python",
   "pygments_lexer": "ipython3",
   "version": "3.7.4"
  },
  "orig_nbformat": 2,
  "kernelspec": {
   "name": "python3",
   "display_name": "Python 3",
   "language": "python"
  }
 },
 "nbformat": 4,
 "nbformat_minor": 2,
 "cells": [
  {
   "source": [
    "# Options Trading\n",
    "\n",
    "This notebook attempts to analyze the various options strategies played during the time period, and their relative success rate."
   ],
   "cell_type": "markdown",
   "metadata": {}
  },
  {
   "cell_type": "code",
   "execution_count": null,
   "metadata": {},
   "outputs": [],
   "source": [
    "import datetime\n",
    "import re\n",
    "\n",
    "import robinhood.logic.dataframe\n",
    "from robinhood.models.option import OptionType\n",
    "\n",
    "\n",
    "def get_options_trades(from_date: str, to_date: str):\n",
    "    trades = robinhood.logic.dataframe.trades.get(\n",
    "        from_date=from_date,\n",
    "        to_date=to_date,\n",
    "    )\n",
    "\n",
    "    regex = re.compile(\n",
    "        r'(?P<ticker>[A-Z]+)'\n",
    "        r'(?P<expiration_date>\\d{6})'\n",
    "        r'(?P<type>[PC])'\n",
    "        r'(?P<strike_price>\\d{8})'\n",
    "    )\n",
    "    output = trades[\n",
    "        trades.apply(lambda row: len(row['Name']) > 6, axis=1)\n",
    "    ]\n",
    "\n",
    "    # TODO: We don't currently do any advanced multi-leg strategies (or option writing).\n",
    "    # However, if we want to analyze that, we should use the strategy type, rather than\n",
    "    # the individual legs.\n",
    "    output['Type'] = output.apply(\n",
    "        lambda row: (\n",
    "            OptionType.CALL\n",
    "            if regex.match(row['Name']).group('type') == 'C'\n",
    "            else OptionType.PUT\n",
    "        ),\n",
    "        axis=1,\n",
    "    )\n",
    "\n",
    "    output['Expiration Date'] = output.apply(\n",
    "        lambda row: datetime.datetime.strptime(\n",
    "            regex.match(row['Name']).group('expiration_date'),\n",
    "            '%y%m%d'\n",
    "        ).date(),\n",
    "        axis=1,\n",
    "    )\n",
    "\n",
    "    output['Strike Price'] = output.apply(\n",
    "        lambda row: round(\n",
    "            int(regex.match(row['Name']).group('strike_price')) / 1000.0,\n",
    "            2,\n",
    "        ),\n",
    "        axis=1,\n",
    "    )\n",
    "\n",
    "    # After we finish processing names, we can simplify them.\n",
    "    output['Name'] = output.apply(\n",
    "        lambda row: regex.match(row['Name']).group('ticker'),\n",
    "        axis=1,\n",
    "    )\n",
    "\n",
    "    # Lastly, reorder the columns\n",
    "    columns = output.columns.tolist()\n",
    "    columns = columns[0:1] + columns[-3:] + columns[1:-3]\n",
    "\n",
    "    return output[columns]\n",
    "\n",
    "\n",
    "option_trades = get_options_trades('2020-01-01', '2020-12-31')"
   ]
  },
  {
   "source": [
    "## Accuracy\n",
    "\n",
    "Unlike trading stocks, [trading options is a zero-sum game](https://www.investopedia.com/terms/z/zero-sumgame.asp). As such, you're naturally going to win some and lose some. Since net earnings can often mask the individual trader's success rate at betting on the market, this calculates how often strategies were accurate."
   ],
   "cell_type": "markdown",
   "metadata": {}
  },
  {
   "cell_type": "code",
   "execution_count": null,
   "metadata": {},
   "outputs": [],
   "source": [
    "from collections import defaultdict\n",
    "\n",
    "import pandas as pd\n",
    "\n",
    "from robinhood.logic.quotes import get_closing_price_for_stocks\n",
    "\n",
    "\n",
    "def get_underlying_stock_data(trades: pd.DataFrame) -> pd.DataFrame:\n",
    "    # Compress data, so we can minimize on network calls\n",
    "    stocks = defaultdict(list)\n",
    "    for trade in trades:\n",
    "        stocks[trade['Name']].append(trade['Expiration Date'])\n",
    "\n",
    "    quotes = get_closing_price_for_stocks(**stocks)\n",
    "\n",
    "    # TODO: Would be super cool if we can capture the underlying stock price when you bought the option.\n",
    "    return pd.concat(\n",
    "        [\n",
    "            trades['Name'],\n",
    "            trades['Type'],\n",
    "            trades['Expiration Date'],\n",
    "            trades['Strike Price'],\n",
    "            trades['Date Bought'],\n",
    "\n",
    "        ],\n",
    "        axis=1,\n",
    "    )\n"
   ]
  },
  {
   "source": [
    "### Strategy\n",
    "\n",
    "How capable are you for choosing the right options trading strategy?"
   ],
   "cell_type": "markdown",
   "metadata": {}
  },
  {
   "cell_type": "code",
   "execution_count": null,
   "metadata": {},
   "outputs": [],
   "source": [
    "def calculate_strategy_accuracy(trades: pd.DataFrame) -> float:\n",
    "    return trades.apply(\n",
    "        lambda row: int(row['Earnings'] > 0),\n",
    "        axis=1,\n",
    "    ).sum() / len(trades)\n",
    "\n",
    "\n",
    "print(\n",
    "    '{percentage}% ({count} / {total})'.format(\n",
    "        percentage=calculate_strategy_accuracy(option_trades),\n",
    "        count=int(calculate_strategy_accuracy(option_trades) * len(option_trades)),\n",
    "        total=len(option_trades),\n",
    "    )\n",
    ")"
   ]
  },
  {
   "source": [
    "### Direction\n",
    "\n",
    "How capable are you at guessing which way the stock is going to trend towards?"
   ],
   "cell_type": "markdown",
   "metadata": {}
  },
  {
   "cell_type": "code",
   "execution_count": null,
   "metadata": {},
   "outputs": [],
   "source": [
    "from collections import defaultdict\n",
    "\n",
    "import pandas as pd\n",
    "\n",
    "from robinhood.logic.quotes import get_closing_price_for_stocks\n",
    "\n",
    "\n",
    "def calculate_direction_accuracy(trades: pd.DataFrame) -> float:\n",
    "    # Compress data, so we can minimize on network calls\n",
    "    stocks = defaultdict(list)\n",
    "    for trade in trades:\n",
    "        stocks[trade['Name']].append(trade['Expiration Date'])\n",
    "\n",
    "    quotes = get_closing_price_for_stocks(**stocks)\n",
    "\n",
    "    def is_accurate(row):\n",
    "        row['Name']\n",
    "\n",
    "    return trades.apply(is_accurate, axis=1)\n",
    "\n",
    "\n",
    "# calculate_direction_accuracy(option_trades)\n",
    "option_trades.head()"
   ]
  },
  {
   "source": [
    "### Strike Price\n",
    "\n",
    "TODO"
   ],
   "cell_type": "markdown",
   "metadata": {}
  }
 ]
}
