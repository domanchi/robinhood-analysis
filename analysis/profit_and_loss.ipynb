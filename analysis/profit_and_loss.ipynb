{
 "metadata": {
  "language_info": {
   "codemirror_mode": {
    "name": "ipython",
    "version": 3
   },
   "file_extension": ".py",
   "mimetype": "text/x-python",
   "name": "python",
   "nbconvert_exporter": "python",
   "pygments_lexer": "ipython3",
   "version": "3.7.4-final"
  },
  "orig_nbformat": 2,
  "kernelspec": {
   "name": "python3",
   "display_name": "Python 3.7.4 64-bit ('venv')",
   "metadata": {
    "interpreter": {
     "hash": "8f86a68566d86b776b0d49d4054d341138ca4c194c586284271ecf6506c38487"
    }
   }
  }
 },
 "nbformat": 4,
 "nbformat_minor": 2,
 "cells": [
  {
   "source": [
    "# P&L Statement\n",
    "\n",
    "This notebook aggregates all trades between specific time periods, for a breakdown of:\n",
    "\n",
    "1. Short v Long Term Profits (for tax purposes)\n",
    "2. Stock v Options Profits (for investment vehicle breakdown)"
   ],
   "cell_type": "markdown",
   "metadata": {}
  },
  {
   "source": [
    "import robinhood.logic.dataframe\n",
    "\n",
    "\n",
    "all_trades = robinhood.logic.dataframe.trades.get(\n",
    "    from_date='2020-01-01',\n",
    "    to_date='2020-12-31',\n",
    ")"
   ],
   "cell_type": "code",
   "metadata": {},
   "execution_count": null,
   "outputs": []
  },
  {
   "source": [
    "## Overview"
   ],
   "cell_type": "markdown",
   "metadata": {}
  },
  {
   "cell_type": "code",
   "execution_count": null,
   "metadata": {},
   "outputs": [],
   "source": [
    "import pandas as pd\n",
    "from IPython.display import display\n",
    "\n",
    "from robinhood.logic import cash\n",
    "\n",
    "\n",
    "def get_overview_dataframe(trades: pd.DataFrame):\n",
    "    trade_types = trades.apply(\n",
    "        lambda row: 'Options' if len(row['Name']) > 6 else 'Stocks',\n",
    "        axis=1,\n",
    "    )\n",
    "    trade_types.name = 'Type'\n",
    "\n",
    "    durations = trades.apply(\n",
    "        lambda row: (\n",
    "            'Short'\n",
    "            if (row['Date Sold'] - row['Date Bought']).days < 365\n",
    "            else 'Long'\n",
    "        ),\n",
    "        axis=1,\n",
    "    )\n",
    "    durations.name = 'Duration'\n",
    "\n",
    "    data = pd.concat([trade_types, durations, trades['Earnings']], axis=1)\n",
    "    return data.groupby(['Type', 'Duration']).sum()\n",
    "\n",
    "\n",
    "print(\n",
    "    'Total: ${:0,.2f}'.format(\n",
    "        get_overview_dataframe(all_trades).sum()[0]\n",
    "    )\n",
    ")\n",
    "display(get_overview_dataframe(all_trades))"
   ]
  },
  {
   "cell_type": "code",
   "execution_count": null,
   "metadata": {},
   "outputs": [],
   "source": [
    "import matplotlib.pyplot as plt\n",
    "import pandas as pd\n",
    "\n",
    "\n",
    "def display_overview_pie_chart(trades: pd.DataFrame):\n",
    "    data = get_overview_dataframe(trades)\n",
    "\n",
    "    def format_label(row):\n",
    "        if row.name[0] == 'Stocks':\n",
    "            return f'{row.name[0]} ({row.name[1]})'\n",
    "        else:\n",
    "            return row.name[0] \n",
    "\n",
    "    # Format graph\n",
    "    figure, ax = plt.subplots()\n",
    "    # figure.set_size_inches(8, 8)\n",
    "    ax.pie(\n",
    "        data['Earnings'],\n",
    "        labels=data.apply(format_label, axis=1),\n",
    "        autopct='%1.1f%%',\n",
    "        shadow=True,\n",
    "    )\n",
    "    ax.axis('equal')    # ensures pie is drawn as a circle\n",
    "\n",
    "    plt.show()\n",
    "\n",
    "\n",
    "display_overview_pie_chart(all_trades)"
   ]
  },
  {
   "cell_type": "code",
   "execution_count": null,
   "metadata": {},
   "outputs": [],
   "source": [
    "import pandas as pd\n",
    "\n",
    "\n",
    "def display_monthly_earnings_chart(trades: pd.DataFrame):\n",
    "    month_index = trades.apply(lambda row: row['Date Sold'].month, axis=1)\n",
    "    month_index.name = 'Month'\n",
    "\n",
    "    data = (\n",
    "        pd.concat([month_index, trades['Earnings']], axis=1)\n",
    "        .groupby('Month').sum()\n",
    "    )\n",
    "\n",
    "    data.plot.bar()\n",
    "\n",
    "\n",
    "display_monthly_earnings_chart(all_trades)"
   ]
  },
  {
   "cell_type": "code",
   "execution_count": null,
   "metadata": {},
   "outputs": [],
   "source": [
    "# TODO: ROI?\n",
    "# TODO: Expected profit after tax?"
   ]
  },
  {
   "source": [
    "## Stock Trades"
   ],
   "cell_type": "markdown",
   "metadata": {}
  },
  {
   "cell_type": "code",
   "execution_count": null,
   "metadata": {},
   "outputs": [],
   "source": [
    "from IPython.display import display\n",
    "from IPython.display import HTML\n",
    "\n",
    "display(\n",
    "    HTML(\n",
    "        all_trades[all_trades.apply(lambda row: len(row['Name']) <= 6, axis=1)]\n",
    "        .sort_values(by=['Date Sold', 'Name'])\n",
    "        .to_html(index=False)\n",
    "    )\n",
    ")"
   ]
  },
  {
   "cell_type": "code",
   "execution_count": null,
   "metadata": {},
   "outputs": [],
   "source": [
    "# TODO: Distribution of profit?\n",
    "# TODO: Largest losses?"
   ]
  },
  {
   "source": [
    "## Options Trades"
   ],
   "cell_type": "markdown",
   "metadata": {}
  },
  {
   "cell_type": "code",
   "execution_count": null,
   "metadata": {},
   "outputs": [],
   "source": [
    "import re\n",
    "\n",
    "from IPython.display import display\n",
    "from IPython.display import HTML\n",
    "import pandas as pd\n",
    "\n",
    "\n",
    "def get_option_trades(trades: pd.DataFrame):\n",
    "    option_trades = all_trades[\n",
    "        all_trades.apply(lambda row: len(row['Name']) > 6, axis=1)\n",
    "    ]\n",
    "\n",
    "    ticker_name_regex = re.compile(r'^([A-Z]+)\\d{6}')\n",
    "    option_trades['Name'] = option_trades.apply(\n",
    "        lambda row: ticker_name_regex.match(row['Name']).group(1),\n",
    "        axis=1,\n",
    "    )\n",
    "\n",
    "    return option_trades\n",
    "\n",
    "\n",
    "display(\n",
    "    HTML(\n",
    "        get_option_trades(all_trades)\n",
    "        .sort_values(by=['Date Sold', 'Name'])\n",
    "        .to_html(index=False)\n",
    "    )\n",
    ")"
   ]
  },
  {
   "source": [
    "### Most Profitable Trades"
   ],
   "cell_type": "markdown",
   "metadata": {}
  },
  {
   "cell_type": "code",
   "execution_count": null,
   "metadata": {},
   "outputs": [],
   "source": [
    "import pandas as pd\n",
    "\n",
    "\n",
    "def get_most_profitable_option_trades(trades: pd.DataFrame):\n",
    "    data = pd.concat(\n",
    "        [\n",
    "            trades['Name'],\n",
    "            trades['Earnings']\n",
    "        ],\n",
    "        axis=1,\n",
    "    )\n",
    "\n",
    "    display(\n",
    "        data.groupby(['Name']).sum()\n",
    "        .sort_values('Earnings', ascending=False)\n",
    "    )\n",
    "\n",
    "\n",
    "get_most_profitable_option_trades(get_option_trades(all_trades))"
   ]
  }
 ]
}
